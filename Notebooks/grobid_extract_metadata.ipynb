{
 "cells": [
  {
   "cell_type": "code",
   "execution_count": 1,
   "id": "e56b3e92",
   "metadata": {},
   "outputs": [],
   "source": [
    "from grobid_client.grobid_client import GrobidClient\n",
    "from lxml import etree\n",
    "from glob import glob\n",
    "from re import sub\n",
    "from pathlib import Path\n",
    "from json import dump"
   ]
  },
  {
   "cell_type": "code",
   "execution_count": 2,
   "id": "8cba333c",
   "metadata": {},
   "outputs": [],
   "source": [
    "FIELDS = [\"title\", \"authors\", \"affiliations\", \"publication_date\", \"publisher\", \"doi\", \"keywords\", \"abstract\"]\n",
    "grobig_config = \"./grobid_config.json\"\n",
    "pdf_dir = \"../data/metadata_extraction_data/pdf\"\n",
    "tei_dir = \"../data/metadata_extraction_data/grobid_tei\"\n",
    "xml_files_path = Path(tei_dir) / \"*.xml\"\n",
    "\n",
    "metadata_dir = Path(\"../data/metadata_extraction_data/grobid_metadata\")\n",
    "metadata_dir.mkdir(parents=True, exist_ok=True)"
   ]
  },
  {
   "cell_type": "code",
   "execution_count": null,
   "id": "c44d2095",
   "metadata": {},
   "outputs": [],
   "source": [
    "def parse_grobid_tei(tei_path) -> dict:\n",
    "    ns = {\"tei\": \"http://www.tei-c.org/ns/1.0\"}\n",
    "    root = etree.parse(tei_path)\n",
    "\n",
    "    # helpers ---------------------------------------------------------------\n",
    "    tex = lambda xp: sub(r\"\\s+\", \" \", (root.findtext(xp, namespaces=ns) or \"\").strip())\n",
    "    many = lambda xp: list(dict.fromkeys([sub(r\"\\s+\", \" \", \" \".join(s.itertext()).strip()) for s in root.findall(xp, namespaces=ns)]))\n",
    "\n",
    "\n",
    "    data = {\n",
    "        \"title\": tex(\".//tei:titleStmt/tei:title\"),\n",
    "        \"authors\": many(\".//tei:persName\"),\n",
    "        \"affiliations\": many(\".//tei:affiliation\"),\n",
    "        \"publication_date\": tex(\".//tei:publicationStmt/tei:date\"),\n",
    "        \"publisher\": tex(\".//tei:publicationStmt/tei:publisher\"),\n",
    "        \"doi\": tex('.//tei:idno[@type=\"DOI\"]'),\n",
    "        \"keywords\": many(\".//tei:profileDesc/tei:textClass/tei:keywords/tei:term\"),\n",
    "        \"abstract\": \" \".join(root.find(\".//tei:abstract\", namespaces=ns).itertext()).strip()\n",
    "                     if root.find(\".//tei:abstract\", namespaces=ns) is not None else \"\"\n",
    "    }\n",
    "    # keep only requested keys, ensure ordering\n",
    "    return {k: data.get(k, \"\") for k in FIELDS}"
   ]
  },
  {
   "cell_type": "code",
   "execution_count": 4,
   "id": "2c2abc1a",
   "metadata": {},
   "outputs": [
    {
     "name": "stdout",
     "output_type": "stream",
     "text": [
      "GROBID server is up and running\n"
     ]
    }
   ],
   "source": [
    "client = GrobidClient(config_path=grobig_config)\n",
    "client.process(\n",
    "    service=\"processHeaderDocument\",\n",
    "    input_path=pdf_dir,\n",
    "    output=tei_dir,\n",
    "    consolidate_header=True,\n",
    ")"
   ]
  },
  {
   "cell_type": "code",
   "execution_count": null,
   "id": "89e31fc8",
   "metadata": {},
   "outputs": [],
   "source": [
    "xml_files = glob(str(xml_files_path))\n",
    "for f in xml_files:\n",
    "    metadata = parse_grobid_tei(f)\n",
    "\n",
    "    file_name = Path(f).stem.replace(\".tei\", \"\")\n",
    "    metadata_write_path = metadata_dir / f\"{file_name}.json\"\n",
    "    with open(metadata_write_path, 'w', encoding='utf-8') as f:\n",
    "        dump(metadata, f, ensure_ascii=False, indent=4)"
   ]
  }
 ],
 "metadata": {
  "kernelspec": {
   "display_name": ".venv",
   "language": "python",
   "name": "python3"
  },
  "language_info": {
   "codemirror_mode": {
    "name": "ipython",
    "version": 3
   },
   "file_extension": ".py",
   "mimetype": "text/x-python",
   "name": "python",
   "nbconvert_exporter": "python",
   "pygments_lexer": "ipython3",
   "version": "3.11.0"
  }
 },
 "nbformat": 4,
 "nbformat_minor": 5
}
