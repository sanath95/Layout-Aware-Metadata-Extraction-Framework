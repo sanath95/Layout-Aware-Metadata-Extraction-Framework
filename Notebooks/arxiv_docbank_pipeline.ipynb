{
 "cells": [
  {
   "cell_type": "code",
   "execution_count": 10,
   "id": "712a6e18",
   "metadata": {},
   "outputs": [],
   "source": [
    "from feedparser import parse\n",
    "from time import sleep\n",
    "from pandas import DataFrame, read_csv\n",
    "from pathlib import Path\n",
    "from requests import get\n",
    "from requests.exceptions import HTTPError\n",
    "from re import escape, compile, search\n",
    "from zipfile import ZipFile\n",
    "from huggingface_hub import hf_hub_download\n",
    "from json import dump, load"
   ]
  },
  {
   "cell_type": "code",
   "execution_count": 11,
   "id": "614f6ca5",
   "metadata": {},
   "outputs": [],
   "source": [
    "output_dir = Path(\"../data/pdf_extraction_data\")\n",
    "output_dir.mkdir(parents=True, exist_ok=True)\n",
    "\n",
    "max_results = 50\n",
    "sort_by = \"submittedDate\"\n",
    "sort_order = \"descending\"\n",
    "\n",
    "base_url = \"http://export.arxiv.org/api/query\"\n",
    "\n",
    "years = (\"2014\", \"2015\", \"2016\", \"2017\", \"2018\")\n",
    "\n",
    "categories = (\"cs.LG\",\"cs.CV\",\"cs.CL\",                  # Computer Science\n",
    "              \"astro‑ph\",\"cond‑mat.mtrl‑sci\", \"hep‑ph\", # Physics\n",
    "              \"math.AG\", \"math.PR\", \"math.NT\",          # Mathematics\n",
    "              \"stat.ML\", \"stat.AP\", \"stat.ME\",          # Statistics\n",
    "              \"eess.SP\", \"eess.SY\", \"eess.IV\",          # EE & Systems Science\n",
    "              \"q‑bio.NC\", \"q‑bio.GN\", \"q‑bio.PE\",       # Quantitative Biology\n",
    "              \"q‑fin.PR\", \"q‑fin.TR\", \"q‑fin.RM\",       # Quantitative Finance\n",
    "              \"econ.EM\", \"econ.GN\", \"econ.TH\")          # Economics"
   ]
  },
  {
   "cell_type": "code",
   "execution_count": 12,
   "id": "dd482706",
   "metadata": {},
   "outputs": [],
   "source": [
    "pdf_url = \"https://arxiv.org/pdf/{arxiv_id}.pdf\"\n",
    "src_url = \"https://arxiv.org/e-print/{arxiv_id}\"\n",
    "\n",
    "pdf_dir = Path(output_dir) / Path(\"pdf\")\n",
    "pdf_dir.mkdir(parents=True, exist_ok=True)\n",
    "\n",
    "annotation_dir = Path(output_dir) / Path(\"annotation\")\n",
    "annotation_dir.mkdir(parents=True, exist_ok=True)\n",
    "\n",
    "arxiv_api_response_path = Path(output_dir) / Path(\"arxiv_api_response.json\")\n",
    "metadata_path = Path(output_dir) / Path(\"metadata.csv\")"
   ]
  },
  {
   "cell_type": "code",
   "execution_count": 13,
   "id": "3a222e49",
   "metadata": {},
   "outputs": [],
   "source": [
    "def query_arxiv(category, year, max_results, sort_by, sort_order):\n",
    "    \"\"\"Query arXiv API for given category/year\"\"\"\n",
    "    q = f\"cat:{category}+AND+submittedDate:[{year}0101+TO+{year}1231]\"\n",
    "    url = (f\"{base_url}?search_query={q}\"\n",
    "           f\"&max_results={max_results}\"\n",
    "           f\"&sortBy={sort_by}&sortOrder={sort_order}\")\n",
    "    sleep(3)\n",
    "    return parse(url)\n",
    "\n",
    "def extract_arxiv_ids(feed):\n",
    "    \"\"\"Extract arXiv IDs from API response\"\"\"\n",
    "    entries = feed.entries\n",
    "    arxiv_ids = []\n",
    "    for entry in entries:\n",
    "        arxiv_id = entry.id.split('/')[-1].split('v')[0]\n",
    "        arxiv_ids.append(arxiv_id)\n",
    "    return arxiv_ids\n",
    "\n",
    "def download_file(url, output_path, chunk=8192):\n",
    "    \"\"\"Download file with progress tracking\"\"\"\n",
    "    if not output_path.is_file():\n",
    "        print(f\"Downloading: {url}\")\n",
    "        try:\n",
    "            r = get(url, stream=True)\n",
    "            r.raise_for_status()\n",
    "            with output_path.open(\"wb\") as fh:\n",
    "                for chunk_ in r.iter_content(chunk):\n",
    "                    fh.write(chunk_)\n",
    "            return True\n",
    "        except HTTPError as e:\n",
    "            print(e)\n",
    "            return False\n",
    "    else:\n",
    "        return True"
   ]
  },
  {
   "cell_type": "code",
   "execution_count": 14,
   "id": "7629ae03",
   "metadata": {},
   "outputs": [],
   "source": [
    "if not arxiv_api_response_path.is_file():\n",
    "    doc_metadata = []\n",
    "\n",
    "    for year in years:\n",
    "        for category in categories:\n",
    "            print(f\"Querying {category} ({year})...\")\n",
    "            feed = query_arxiv(category, year, max_results, sort_by, sort_order)\n",
    "            arxiv_ids = extract_arxiv_ids(feed)\n",
    "            for arxiv_id in arxiv_ids:\n",
    "                doc_metadata.append({\n",
    "                    \"arxiv_id\": arxiv_id,\n",
    "                    \"year\": year,\n",
    "                    \"category\": category,\n",
    "                    \"annotation\": None\n",
    "                })\n",
    "    \n",
    "    with open(arxiv_api_response_path, 'w') as f:\n",
    "        dump(doc_metadata, f)\n",
    "else:\n",
    "    with open(arxiv_api_response_path, 'r') as f:\n",
    "        doc_metadata = load(f)"
   ]
  },
  {
   "cell_type": "code",
   "execution_count": 15,
   "id": "cb54eff6",
   "metadata": {},
   "outputs": [],
   "source": [
    "if not metadata_path.is_file():\n",
    "    metadata_df = DataFrame(doc_metadata)\n",
    "    arxiv_ids = metadata_df[\"arxiv_id\"].astype(str)\n",
    "    \n",
    "    txt_zip = hf_hub_download(\n",
    "        repo_id=\"liminghao1630/DocBank\",       \n",
    "        filename=\"DocBank_500K_txt.zip\",       \n",
    "        cache_dir=\"../.hf_cache\",\n",
    "        repo_type=\"dataset\")                 \n",
    "\n",
    "    pattern = compile(\"|\".join(escape(x) for x in arxiv_ids))\n",
    "\n",
    "    with ZipFile(txt_zip) as z:\n",
    "        for name in z.namelist():\n",
    "            if name.endswith(\"_0.txt\") and pattern.search(name):\n",
    "                search_arxiv_id = search(r'tar_(.*?)\\.gz', name)\n",
    "                if search_arxiv_id:\n",
    "                    arxiv_id = search_arxiv_id.group(1)\n",
    "                    metadata_df.loc[metadata_df[\"arxiv_id\"]==arxiv_id, \"annotation\"] = name\n",
    "                    z.extract(name, path=annotation_dir)\n",
    "\n",
    "    metadata_df = metadata_df.loc[metadata_df[\"annotation\"].notnull()].reset_index(drop=True)\n",
    "\n",
    "    for i, row in metadata_df.iterrows():\n",
    "        arxiv_id = row[\"arxiv_id\"]\n",
    "        pdf_path = pdf_dir / Path(f\"{arxiv_id}.pdf\")\n",
    "        download_successful = download_file(url = pdf_url.format(arxiv_id=arxiv_id), \n",
    "                                                output_path = pdf_path)\n",
    "        \n",
    "        if download_successful:\n",
    "            metadata_df.loc[metadata_df[\"arxiv_id\"] == arxiv_id, \"pdf_path\"] = str(pdf_path)\n",
    "        else:\n",
    "            metadata_df.loc[metadata_df[\"arxiv_id\"] == arxiv_id, \"pdf_path\"] = None\n",
    "            metadata_df.loc[metadata_df[\"arxiv_id\"] == arxiv_id, \"annotation\"] = None\n",
    "\n",
    "    metadata_df.drop_duplicates(\"arxiv_id\", inplace=True)\n",
    "    metadata_df.dropna(ignore_index=True, inplace=True)\n",
    "    metadata_df.to_csv(metadata_path, index=False)\n",
    "\n",
    "else:\n",
    "    metadata_df = read_csv(metadata_path)"
   ]
  },
  {
   "cell_type": "code",
   "execution_count": 16,
   "id": "a40e1fed",
   "metadata": {},
   "outputs": [
    {
     "name": "stdout",
     "output_type": "stream",
     "text": [
      "Total 101 files\n"
     ]
    }
   ],
   "source": [
    "print(f\"Total {len(metadata_df)} files\")"
   ]
  },
  {
   "cell_type": "code",
   "execution_count": 17,
   "id": "11c1c1f8",
   "metadata": {},
   "outputs": [
    {
     "data": {
      "text/plain": [
       "category_\n",
       "cs      31\n",
       "stat    22\n",
       "math    18\n",
       "eess    18\n",
       "econ    12\n",
       "Name: count, dtype: int64"
      ]
     },
     "execution_count": 17,
     "metadata": {},
     "output_type": "execute_result"
    }
   ],
   "source": [
    "metadata_df[\"category_\"] = metadata_df[\"category\"].apply(lambda cat:cat.split(\".\")[0])\n",
    "metadata_df[\"category_\"].value_counts()"
   ]
  },
  {
   "cell_type": "code",
   "execution_count": 18,
   "id": "3459edf6",
   "metadata": {},
   "outputs": [
    {
     "data": {
      "text/plain": [
       "year\n",
       "2016    28\n",
       "2017    27\n",
       "2014    23\n",
       "2015    21\n",
       "2018     2\n",
       "Name: count, dtype: int64"
      ]
     },
     "execution_count": 18,
     "metadata": {},
     "output_type": "execute_result"
    }
   ],
   "source": [
    "metadata_df[\"year\"].value_counts()"
   ]
  }
 ],
 "metadata": {
  "kernelspec": {
   "display_name": ".venv",
   "language": "python",
   "name": "python3"
  },
  "language_info": {
   "codemirror_mode": {
    "name": "ipython",
    "version": 3
   },
   "file_extension": ".py",
   "mimetype": "text/x-python",
   "name": "python",
   "nbconvert_exporter": "python",
   "pygments_lexer": "ipython3",
   "version": "3.11.0"
  }
 },
 "nbformat": 4,
 "nbformat_minor": 5
}
