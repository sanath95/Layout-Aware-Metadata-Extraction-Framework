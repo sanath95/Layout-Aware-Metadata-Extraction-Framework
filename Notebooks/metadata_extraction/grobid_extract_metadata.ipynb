{
 "cells": [
  {
   "cell_type": "code",
   "execution_count": 1,
   "id": "e56b3e92",
   "metadata": {},
   "outputs": [],
   "source": [
    "from grobid_client.grobid_client import GrobidClient\n",
    "from lxml import etree\n",
    "from glob import glob\n",
    "from re import sub\n",
    "from pathlib import Path\n",
    "from json import dump\n",
    "from datetime import datetime"
   ]
  },
  {
   "cell_type": "code",
   "execution_count": 2,
   "id": "8cba333c",
   "metadata": {},
   "outputs": [],
   "source": [
    "FIELDS = [\"title\", \"authors\", \"affiliations\", \"publication_date\", \"publisher\", \"doi\", \"keywords\", \"abstract\"]\n",
    "grobig_config = \"./grobid_config.json\"\n",
    "pdf_dir = \"../../data/metadata_extraction_data/demo\"\n",
    "tei_dir = \"../../data/metadata_extraction_data/grobid_demo_tei\"\n",
    "xml_files_path = Path(tei_dir) / \"*.xml\"\n",
    "\n",
    "metadata_dir = Path(\"../../data/metadata_extraction_data/grobid_demo_metadata\")\n",
    "metadata_dir.mkdir(parents=True, exist_ok=True)"
   ]
  },
  {
   "cell_type": "code",
   "execution_count": 3,
   "id": "c44d2095",
   "metadata": {},
   "outputs": [],
   "source": [
    "def parse_grobid_tei(tei_path) -> dict:\n",
    "    ns = {\"tei\": \"http://www.tei-c.org/ns/1.0\"}\n",
    "    root = etree.parse(tei_path)\n",
    "\n",
    "    # helpers ---------------------------------------------------------------\n",
    "    tex = lambda xp: sub(r\"\\s+\", \" \", (root.findtext(xp, namespaces=ns) or \"\").strip())\n",
    "    many = lambda xp: list(dict.fromkeys([sub(r\"\\s+\", \" \", \" \".join(s.itertext()).strip()) for s in root.findall(xp, namespaces=ns)]))\n",
    "    def date(xp):\n",
    "        date_value = root.xpath(xp, namespaces=ns)[0] if root.xpath(xp, namespaces=ns) else \"\"\n",
    "        if date_value:\n",
    "            try:\n",
    "                date_value = datetime.strptime(date_value, \"%Y-%m-%d\").strftime('%d-%m-%Y')\n",
    "            except ValueError:\n",
    "                try:\n",
    "                    date_value = datetime.strptime(date_value, \"%Y-%m\").strftime('%m-%Y')\n",
    "                except ValueError:\n",
    "                    date_value = datetime.strptime(date_value, \"%Y\").strftime('%Y')\n",
    "        return date_value\n",
    "            \n",
    "\n",
    "    data = {\n",
    "        \"title\": tex(\".//tei:titleStmt/tei:title\"),\n",
    "        \"authors\": many(\".//tei:persName\"),\n",
    "        \"affiliations\": many(\".//tei:affiliation\"),\n",
    "        \"publication_date\": date(\".//tei:publicationStmt/tei:date/@when\"),\n",
    "        \"publisher\": tex(\".//tei:publicationStmt/tei:publisher\"),\n",
    "        \"doi\": tex('.//tei:idno[@type=\"DOI\"]'),\n",
    "        \"keywords\": many(\".//tei:profileDesc/tei:textClass/tei:keywords/tei:term\"),\n",
    "        \"abstract\": \" \".join(root.find(\".//tei:abstract\", namespaces=ns).itertext()).strip()\n",
    "                     if root.find(\".//tei:abstract\", namespaces=ns) is not None else \"\"\n",
    "    }\n",
    "    # keep only requested keys, ensure ordering\n",
    "    return {k: data.get(k, \"\") for k in FIELDS}"
   ]
  },
  {
   "cell_type": "code",
   "execution_count": 4,
   "id": "2c2abc1a",
   "metadata": {},
   "outputs": [
    {
     "name": "stderr",
     "output_type": "stream",
     "text": [
      "INFO - Loading configuration file from ./grobid_config.json\n",
      "INFO - Configuration file loaded successfully\n",
      "2025-09-17 23:12:48,296 - grobid_client.grobid_client - INFO - Logging configured - Level: INFO, Console: True, File: disabled\n",
      "2025-09-17 23:12:48,511 - grobid_client.grobid_client - INFO - GROBID server http://localhost:8070 is up and running\n",
      "2025-09-17 23:12:48,513 - grobid_client.grobid_client - INFO - Found 1 file(s) to process\n",
      "2025-09-17 23:12:50,437 - grobid_client.grobid_client - INFO - Processing completed: 1 out of 1 files processed\n"
     ]
    }
   ],
   "source": [
    "client = GrobidClient(config_path=grobig_config)\n",
    "client.process(\n",
    "    service=\"processHeaderDocument\",\n",
    "    input_path=pdf_dir,\n",
    "    output=tei_dir,\n",
    "    consolidate_header=True,\n",
    ")"
   ]
  },
  {
   "cell_type": "code",
   "execution_count": 5,
   "id": "89e31fc8",
   "metadata": {},
   "outputs": [
    {
     "name": "stdout",
     "output_type": "stream",
     "text": [
      "File exists\n"
     ]
    }
   ],
   "source": [
    "xml_files = glob(str(xml_files_path))\n",
    "for f in xml_files:\n",
    "    file_name = Path(f).stem.replace(\".tei\", \"\").replace(\".grobid\", \"\")\n",
    "    metadata_write_path = metadata_dir / f\"{file_name}.json\"\n",
    "    if not metadata_write_path.is_file():\n",
    "        print(metadata_write_path)\n",
    "        metadata = parse_grobid_tei(f)\n",
    "        with open(metadata_write_path, 'w', encoding='utf-8') as f:\n",
    "            dump(metadata, f, ensure_ascii=False, indent=4)\n",
    "    else:\n",
    "        print(\"File exists\")"
   ]
  },
  {
   "cell_type": "code",
   "execution_count": 6,
   "id": "8517e3aa",
   "metadata": {},
   "outputs": [
    {
     "data": {
      "text/plain": [
       "1"
      ]
     },
     "execution_count": 6,
     "metadata": {},
     "output_type": "execute_result"
    }
   ],
   "source": [
    "len(xml_files)"
   ]
  },
  {
   "cell_type": "code",
   "execution_count": null,
   "id": "f619aace",
   "metadata": {},
   "outputs": [],
   "source": []
  }
 ],
 "metadata": {
  "kernelspec": {
   "display_name": "Layout-Aware-Metadata-Extraction-Framework",
   "language": "python",
   "name": "python3"
  },
  "language_info": {
   "codemirror_mode": {
    "name": "ipython",
    "version": 3
   },
   "file_extension": ".py",
   "mimetype": "text/x-python",
   "name": "python",
   "nbconvert_exporter": "python",
   "pygments_lexer": "ipython3",
   "version": "3.11.0"
  }
 },
 "nbformat": 4,
 "nbformat_minor": 5
}
